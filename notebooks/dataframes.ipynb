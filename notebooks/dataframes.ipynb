{
 "cells": [
  {
   "cell_type": "code",
   "execution_count": 30,
   "metadata": {},
   "outputs": [],
   "source": [
    "# usage: from Portfolio.dataframes import *"
   ]
  },
  {
   "cell_type": "code",
   "execution_count": 48,
   "metadata": {},
   "outputs": [],
   "source": [
    "from Portfolio.paths import paths\n",
    "from Portfolio.edit_frontmatter import *"
   ]
  },
  {
   "cell_type": "code",
   "execution_count": 49,
   "metadata": {},
   "outputs": [
    {
     "name": "stdout",
     "output_type": "stream",
     "text": [
      "write_frontmatter(post:frontmatter.Post, file:str):\n",
      "\n",
      "    This function takes as input:\n",
      "        - post-type object from the frontmatter extension\n",
      "        - str path of the file to be written.\n",
      "\n",
      "    makes the file with the post object and returns None.\n"
     ]
    }
   ],
   "source": [
    "doc = lambda function: print(function.__doc__.strip())\n",
    "doc(write_frontmatter)"
   ]
  },
  {
   "cell_type": "code",
   "execution_count": 89,
   "metadata": {},
   "outputs": [],
   "source": [
    "## TOP-LEVEL FUNCTIONS:\n",
    "\n",
    "def create_DataFrame(header_dict:dict):\n",
    "    \"\"\"\n",
    "    Trivially creates a pandas.DataFrame from a heading dictionary.\n",
    "    \"\"\"\n",
    "    return pd.DataFrame([header_dict])\n",
    "\n",
    "def create_header_dict(post:frontmatter.Post, from_dict=None):\n",
    "    \"\"\"\n",
    "    create_header_dict(post:frontmatter.Post, from_dict=None)\n",
    "   \n",
    "    Takes as inputs a post object, and optionally, a dictionary to being updated. \n",
    "    Returns a header dictionary from a Post YAML Frontmatter and the content.\n",
    "    \n",
    "    Params:\n",
    "        post: frontmatter.Post. \n",
    "        from_dict: dict,bool. When it is specified, updates the from_dict with the new post.metadata values.\n",
    "    \"\"\"\n",
    "    \n",
    "    if isinstance(from_dict, dict):\n",
    "        NEW_HEADER_DICT = from_dict.copy()\n",
    "    else:\n",
    "        NEW_HEADER_DICT = {}\n",
    "        \n",
    "    NEW_HEADER_DICT.update({k:v for k,v in post.metadata.items()})\n",
    "    NEW_HEADER_DICT.update({\n",
    "        \"metadata\" : post.metadata,\n",
    "        \"content\" : post.content,\n",
    "    })\n",
    "    return NEW_HEADER_DICT"
   ]
  },
  {
   "cell_type": "code",
   "execution_count": 91,
   "metadata": {},
   "outputs": [],
   "source": [
    "## RUN:\n",
    "if __name__ == \"__main__\":\n",
    "    posts_HEADER_TEMPLATE,_,_ = load_frontmatter(os.path.join(paths[\"postsDir\"], \"2020-07-03-lc0-guia.md\"), False)\n",
    "    portfolio_HEADER_TEMPLATE,_,_ = load_frontmatter(os.path.join(paths[\"topicsDir\"],\"astrophysics.md\"), False)\n",
    "    drafts_HEADER_TEMPLATE,_,_ = load_frontmatter(os.path.join(paths[\"draftsDir\"], \"2020-10-29-draft.md\"), False)    \n",
    "\n",
    "    posts_HEADER_DICT = create_header_dict(posts_HEADER_TEMPLATE, )\n",
    "    portfolio_HEADER_DICT = create_header_dict(portfolio_HEADER_TEMPLATE, )\n",
    "    drafts_HEADER_DICT = create_header_dict(drafts_HEADER_TEMPLATE, )\n",
    "    \n",
    "    postsDF = create_DataFrame(posts_HEADER_DICT)\n",
    "    portfolioDF = create_DataFrame(portfolio_HEADER_DICT)\n",
    "    drafts_DF = create_DataFrame(drafts_HEADER_DICT)"
   ]
  },
  {
   "cell_type": "markdown",
   "metadata": {},
   "source": [
    "## NOTES:\n",
    "\n",
    "### FOREACH Approx:\n",
    "\n",
    "if __name__ == \"__main__\":\n",
    "    \n",
    "    glob_<collection> = glob.glob(os.path.join(paths[\"<collection>\"],\"*.md\"))\n",
    "    \n",
    "    header_dict = {}\n",
    "    <collection>DF = pd.DataFrame()\n",
    "    for postfile in glob_<collection>:\n",
    "        post,_,_ = load_frontmatter( postfile, _parsing=False )\n",
    "        header_dict = create_header_dict(post, from_dict= header_dict)\n",
    "        <collection>DF.append([header_dict])\n",
    "        \n",
    "    "
   ]
  },
  {
   "cell_type": "code",
   "execution_count": null,
   "metadata": {},
   "outputs": [],
   "source": []
  }
 ],
 "metadata": {
  "kernelspec": {
   "display_name": "Python 3",
   "language": "python",
   "name": "python3"
  },
  "language_info": {
   "codemirror_mode": {
    "name": "ipython",
    "version": 3
   },
   "file_extension": ".py",
   "mimetype": "text/x-python",
   "name": "python",
   "nbconvert_exporter": "python",
   "pygments_lexer": "ipython3",
   "version": "3.8.5"
  }
 },
 "nbformat": 4,
 "nbformat_minor": 4
}
