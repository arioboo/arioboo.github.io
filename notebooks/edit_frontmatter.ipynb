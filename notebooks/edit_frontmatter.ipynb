{
 "cells": [
  {
   "cell_type": "code",
   "execution_count": 1,
   "metadata": {},
   "outputs": [],
   "source": [
    "import frontmatter"
   ]
  },
  {
   "cell_type": "code",
   "execution_count": 2,
   "metadata": {},
   "outputs": [],
   "source": [
    "##-- PARAMETERS\n",
    "\n",
    "#_FICHERO_PRUEBA = glob_posts[0]\n",
    "#_parsing = True"
   ]
  },
  {
   "cell_type": "code",
   "execution_count": 3,
   "metadata": {},
   "outputs": [],
   "source": [
    "def load_frontmatter(file:str , _parsing:bool):\n",
    "    if _parsing:\n",
    "        with open(file, \"r\") as f:\n",
    "            metadata, content = frontmatter.parse(f.read())\n",
    "        return metadata,content\n",
    "    else:\n",
    "        with open(file, \"r\") as f:\n",
    "            post = frontmatter.load(f)\n",
    "            content = post.content\n",
    "            metadata = post.metadata\n",
    "        return post, metadata, content\n",
    "\n",
    "def write_frontmatter(post, file:str ):\n",
    "    with open(file, \"w\") as f:\n",
    "        f.write(frontmatter.dumps(post))\n",
    "    return"
   ]
  },
  {
   "cell_type": "code",
   "execution_count": 5,
   "metadata": {},
   "outputs": [
    {
     "ename": "NameError",
     "evalue": "name '_FICHERO_PRUEBA' is not defined",
     "output_type": "error",
     "traceback": [
      "\u001b[0;31m---------------------------------------------------------------------------\u001b[0m",
      "\u001b[0;31mNameError\u001b[0m                                 Traceback (most recent call last)",
      "\u001b[0;32m<ipython-input-5-278ba09ce358>\u001b[0m in \u001b[0;36m<module>\u001b[0;34m\u001b[0m\n\u001b[1;32m      8\u001b[0m \u001b[0;34m\u001b[0m\u001b[0m\n\u001b[1;32m      9\u001b[0m     \u001b[0;31m#1. Reading. \"post\" contains everything\u001b[0m\u001b[0;34m\u001b[0m\u001b[0;34m\u001b[0m\u001b[0;34m\u001b[0m\u001b[0m\n\u001b[0;32m---> 10\u001b[0;31m     \u001b[0mpost\u001b[0m\u001b[0;34m,\u001b[0m \u001b[0morig_metadata\u001b[0m\u001b[0;34m,\u001b[0m \u001b[0morig_content\u001b[0m \u001b[0;34m=\u001b[0m \u001b[0mload_frontmatter\u001b[0m\u001b[0;34m(\u001b[0m\u001b[0mfile\u001b[0m\u001b[0;34m=\u001b[0m\u001b[0m_FICHERO_PRUEBA\u001b[0m\u001b[0;34m,\u001b[0m \u001b[0m_parsing\u001b[0m\u001b[0;34m=\u001b[0m\u001b[0;32mFalse\u001b[0m\u001b[0;34m)\u001b[0m\u001b[0;34m\u001b[0m\u001b[0;34m\u001b[0m\u001b[0m\n\u001b[0m\u001b[1;32m     11\u001b[0m \u001b[0;34m\u001b[0m\u001b[0m\n\u001b[1;32m     12\u001b[0m     \u001b[0;31m#2. Modifications <changes to post.metadata>\u001b[0m\u001b[0;34m\u001b[0m\u001b[0;34m\u001b[0m\u001b[0;34m\u001b[0m\u001b[0m\n",
      "\u001b[0;31mNameError\u001b[0m: name '_FICHERO_PRUEBA' is not defined"
     ]
    }
   ],
   "source": [
    "## RUN: (i.e.)\n",
    "if __name__ == \"__main__\":\n",
    "    import glob\n",
    "    from Portfolio.paths import paths\n",
    "    \n",
    "    glob_posts = glob.glob(paths[\"postsDir\"] + \"/*.md\")\n",
    "    lista_posts = [os.path.basename(p) for p in glob_posts]\n",
    "    \n",
    "    #-- PARAMETERS\n",
    "    _FICHERO_PRUEBA = glob_posts[0]\n",
    "    _parsing = False\n",
    "    \n",
    "    #1. Reading. \"post\" contains everything\n",
    "    post, orig_metadata, orig_content = load_frontmatter(file=_FICHERO_PRUEBA, _parsing=False)\n",
    "    \n",
    "    #2. Modifications <changes to post.metadata>\n",
    "    post.metadata[\"Hola\"] = \"Hola\"\n",
    "    \n",
    "    #3. Writing\n",
    "    from io import BytesIO\n",
    "    b = BytesIO()\n",
    "    frontmatter.dump(post, b)\n",
    "    #print(b.getvalue())\n",
    "\n",
    "    write_frontmatter(post, \"prueba.txt\")\n",
    "    \n",
    "    "
   ]
  },
  {
   "cell_type": "markdown",
   "metadata": {},
   "source": [
    "### **NOTES:**\n",
    "## Foreach approach:\n",
    "if __name__ == \"__main__\":\n",
    "\n",
    "    from Portfolio.paths import paths\n",
    "    \n",
    "    glob_posts = glob.glob(paths[\"postsDir\"] + \"/*.md\")\n",
    "    lista_posts = [os.path.basename(p) for p in glob_posts]\n",
    "    \n",
    "    for filename in glob_posts:\n",
    "        post,_,_ = load_frontmatter(file = filename, _parsing = False) #1.\n",
    "        post.metadata = {<some other dictionary>} #2.a (replace frontmatter)\n",
    "        post.metadata[\"\"] = \"\" #2.b (add something to existing frontmatter)\n",
    "        write_frontmatter(post, file) #3.\n",
    "        \n"
   ]
  },
  {
   "cell_type": "code",
   "execution_count": null,
   "metadata": {},
   "outputs": [],
   "source": []
  }
 ],
 "metadata": {
  "kernelspec": {
   "display_name": "Python 3",
   "language": "python",
   "name": "python3"
  },
  "language_info": {
   "codemirror_mode": {
    "name": "ipython",
    "version": 3
   },
   "file_extension": ".py",
   "mimetype": "text/x-python",
   "name": "python",
   "nbconvert_exporter": "python",
   "pygments_lexer": "ipython3",
   "version": "3.8.5"
  }
 },
 "nbformat": 4,
 "nbformat_minor": 4
}
